{
  "metadata": {
    "kernelspec": {
      "name": "python",
      "display_name": "Pyolite",
      "language": "python"
    },
    "language_info": {
      "codemirror_mode": {
        "name": "python",
        "version": 3
      },
      "file_extension": ".py",
      "mimetype": "text/x-python",
      "name": "python",
      "nbconvert_exporter": "python",
      "pygments_lexer": "ipython3",
      "version": "3.8"
    }
  },
  "nbformat_minor": 4,
  "nbformat": 4,
  "cells": [
    {
      "cell_type": "markdown",
      "source": "<center>\n    <img src=\"https://s3-api.us-geo.objectstorage.softlayer.net/cf-courses-data/CognitiveClass/Logos/organization_logo/organization_logo.png\" width=\"300\" alt=\"cognitiveclass.ai logo\"  />\n</center>\n",
      "metadata": {}
    },
    {
      "cell_type": "markdown",
      "source": "## \"My Jupyter Notebook on IBM Watson Studio\"",
      "metadata": {}
    },
    {
      "cell_type": "markdown",
      "source": "**Sara J Harden**",
      "metadata": {}
    },
    {
      "cell_type": "markdown",
      "source": "*I am interested in data science because I believe data can show us the shortcomings of human services and help us to improve our systems of helping people access them.*",
      "metadata": {}
    },
    {
      "cell_type": "markdown",
      "source": "### The code below should add 5 and 5 for a product of 10.",
      "metadata": {}
    },
    {
      "cell_type": "code",
      "source": "5+5",
      "metadata": {
        "trusted": true
      },
      "execution_count": 2,
      "outputs": [
        {
          "execution_count": 2,
          "output_type": "execute_result",
          "data": {
            "text/plain": "10"
          },
          "metadata": {}
        }
      ]
    },
    {
      "cell_type": "markdown",
      "source": "The colors of the rainbow are the following:\n* Red\n* Orange\n* Yellow\n* Green\n* Blue\n* Indigo\n* Violet\nThese colors can be categorized as:\n1. Primary\n1. Secondary\n\nHere is an example of a rainbow, per stock illustration:\n<img src=\"https://media.istockphoto.com/vectors/rainbow-arch-vector-icon-decorative-pattern-weather-symbol-color-vector-id1271087162?k=20&m=1271087162&s=612x612&w=0&h=ghPtpwj5crUIN09p423kt_qUtF_mov3yl10wGiU11Lo=\" alt=\"Rainbow\" title=\"Rainbow Example\" />",
      "metadata": {}
    },
    {
      "cell_type": "code",
      "source": "",
      "metadata": {},
      "execution_count": null,
      "outputs": []
    }
  ]
}